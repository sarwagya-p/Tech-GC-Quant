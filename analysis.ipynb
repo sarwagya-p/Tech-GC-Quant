{
 "cells": [
  {
   "cell_type": "markdown",
   "metadata": {},
   "source": [
    "# Data and Cleanup"
   ]
  },
  {
   "cell_type": "code",
   "execution_count": 1,
   "metadata": {},
   "outputs": [],
   "source": [
    "# Imports\n",
    "import numpy as np\n",
    "import pandas as pd\n",
    "import seaborn as sns\n",
    "import matplotlib.pyplot as plt\n",
    "\n",
    "df_0 = pd.read_parquet(\"data/train_0.parquet\")\n",
    "\n",
    "# Delete target 3 to 8, feature 00 - 04, 21, 26, 27, 31\n",
    "df_0 = df_0.drop(columns=[f\"target_{i}\" for i in range(3, 9)] + [f\"feature_{i:02.0f}\" for i in [0, 1, 2, 3, 4, 21, 26, 27, 31]])\n",
    "df_0.sort_values(by=[\"date_id\", \"time_id\", \"symbol_id\"], inplace=True)"
   ]
  },
  {
   "cell_type": "code",
   "execution_count": 2,
   "metadata": {},
   "outputs": [
    {
     "data": {
      "text/plain": [
       "array([ 0,  1,  2,  3,  4,  5,  6,  7,  8,  9, 10, 11, 12, 13, 14, 15, 16,\n",
       "       17, 18, 19, 20, 21, 22, 23, 24, 25, 26, 27, 28, 29, 30, 31, 32, 33,\n",
       "       34, 35, 36, 37, 38, 39, 40, 41, 42, 43, 44, 45, 46, 47, 48, 49, 50,\n",
       "       51, 52, 53, 54, 55, 56, 57, 58, 59, 60, 61, 62, 63, 64, 65, 66, 67,\n",
       "       68, 69, 70, 71, 72, 73, 74, 75, 76, 77, 78, 79, 80, 81, 82, 83, 84,\n",
       "       85, 86, 87, 88, 89, 90, 91, 92, 93, 94, 95, 96, 97, 98, 99],\n",
       "      dtype=int16)"
      ]
     },
     "execution_count": 2,
     "metadata": {},
     "output_type": "execute_result"
    }
   ],
   "source": [
    "# df_0[\"symbol_id\"].unique()\n",
    "df_0[\"date_id\"].unique()\n",
    "# df_0[\"time_id\"].unique()"
   ]
  },
  {
   "cell_type": "code",
   "execution_count": 3,
   "metadata": {},
   "outputs": [
    {
     "data": {
      "text/plain": [
       "Index(['date_id', 'time_id', 'symbol_id', 'feature_09', 'feature_10',\n",
       "       'feature_11'],\n",
       "      dtype='object')"
      ]
     },
     "execution_count": 3,
     "metadata": {},
     "output_type": "execute_result"
    }
   ],
   "source": [
    "feature_nos = list(range(78))\n",
    "\n",
    "for i in [0, 1, 2, 3, 4, 21, 26, 27, 31]:\n",
    "    feature_nos.remove(i)\n",
    "\n",
    "features = [f\"feature_{i:02.0f}\" for i in feature_nos]\n",
    "\n",
    "# List columns of type int\n",
    "int_cols = df_0.select_dtypes(include=[\"int\", \"int8\", \"int16\"]).columns\n",
    "int_cols"
   ]
  },
  {
   "cell_type": "code",
   "execution_count": 4,
   "metadata": {},
   "outputs": [],
   "source": [
    "# Fill nans with mean\n",
    "df_0 = df_0.fillna(df_0.mean())\n"
   ]
  },
  {
   "cell_type": "code",
   "execution_count": null,
   "metadata": {},
   "outputs": [
    {
     "name": "stdout",
     "output_type": "stream",
     "text": [
      "Shape of 3D data: (20, 84900, 69)\n"
     ]
    }
   ],
   "source": [
    "# Extract features and target to numpy arrays\n",
    "# X = df_0[features].to_numpy()\n",
    "# y = df_0[\"target_1\"].to_numpy()\n",
    "\n",
    "# # Split data into training and test set\n",
    "# from sklearn.model_selection import train_test_split\n",
    "# X_train, X_test, y_train, y_test = train_test_split(X, y, test_size=0.2, random_state=42)\n",
    "\n",
    "symbols = sorted(df_0['symbol_id'].unique())  # Unique symbols\n",
    "dates = sorted(df_0['date_id'].unique())  # Unique dates\n",
    "times = sorted(df_0['time_id'].unique())  # Unique time steps\n",
    "\n",
    "symbol_idx = {symbol: i for i, symbol in enumerate(symbols)}\n",
    "date_time_idx = {(date, time): i for i, (date, time) in enumerate([(date, time) for date in dates for time in times])}\n",
    "\n",
    "# Extract feature columns\n",
    "n_symbols, n_dates, n_times, n_features = len(symbols), len(dates), len(times), len(features)\n",
    "\n",
    "# Initialize the 3D array\n",
    "X = np.full((n_symbols, n_dates * n_times, n_features), np.nan)  # Use NaN for missing data\n",
    "\n",
    "# Fill the array\n",
    "for _, row in df_0.iterrows():\n",
    "    s, d, t = row['symbol_id'], row['date_id'], row['time_id']\n",
    "    X[symbol_idx[s], date_time_idx[(d, t)], :] = row[features].values\n",
    "\n",
    "# Print the final shape\n",
    "print(\"Shape of 3D data:\", X.shape)  # (n_symbols, n_dates * n_times, n_features)\n",
    "\n",
    "# Extract target columns\n",
    "y = np.full((n_symbols, n_dates * n_times), np.nan)  # Use NaN for missing data\n",
    "for _, row in df_0.iterrows():\n",
    "    s, d, t = row['symbol_id'], row['date_id'], row['time_id']\n",
    "    y[symbol_idx[s], date_time_idx[(d, t)]] = row['target_1']"
   ]
  },
  {
   "cell_type": "code",
   "execution_count": 9,
   "metadata": {},
   "outputs": [],
   "source": [
    "train_size = int(0.8 * n_dates * n_times)  # 80% of the data is used for training\n",
    "X_train, X_test = X[:, :train_size, :], X[:, train_size:, :]\n",
    "y_train, y_test = y[:, :train_size], y[:, train_size:]"
   ]
  },
  {
   "cell_type": "markdown",
   "metadata": {},
   "source": [
    "# Finding Autocorrelation"
   ]
  },
  {
   "cell_type": "code",
   "execution_count": 27,
   "metadata": {},
   "outputs": [
    {
     "name": "stdout",
     "output_type": "stream",
     "text": [
      "Shape of X: (67920, 66), shape of y: (67920,)\n",
      "Breusch-Godfrey test: (np.float64(55270.58458190986), np.float64(0.0), 29556.140488399797, 0.0)\n"
     ]
    }
   ],
   "source": [
    "# Durbin Watson test\n",
    "from sklearn.preprocessing import MinMaxScaler\n",
    "import statsmodels.api as sm\n",
    "from statsmodels.stats.stattools import durbin_watson\n",
    "from statsmodels.stats.diagnostic import acorr_breusch_godfrey\n",
    "\n",
    "curr_X = X_train[1]\n",
    "# Remove feature 7, 8, 9\n",
    "curr_X = np.delete(curr_X, [7, 8, 9], axis=1)\n",
    "curr_y = y_train[1]\n",
    "# Remove nan values\n",
    "mask = ~np.isnan(curr_y)\n",
    "curr_X = curr_X[mask]\n",
    "curr_y = curr_y[mask]\n",
    "\n",
    "print(f\"Shape of X: {curr_X.shape}, shape of y: {curr_y.shape}\")\n",
    "scaler = MinMaxScaler()\n",
    "scaler.fit(curr_X)\n",
    "X_train_scaled = scaler.transform(curr_X)\n",
    "\n",
    "model = sm.OLS(curr_y, X_train_scaled).fit()\n",
    "lags = 10\n",
    "\n",
    "# dw_test = durbin_watson(model.resid)\n",
    "# print(f\"Durbin Watson test: {dw_test}\")\n",
    "\n",
    "# Perform Breusch-Godfrey test\n",
    "bg_test = acorr_breusch_godfrey(model, nlags=lags)\n",
    "print(f\"Breusch-Godfrey test: {bg_test}\")\n"
   ]
  },
  {
   "cell_type": "code",
   "execution_count": 26,
   "metadata": {},
   "outputs": [
    {
     "name": "stderr",
     "output_type": "stream",
     "text": [
      "/Users/sarwagyaprasad/miniforge3/lib/python3.12/site-packages/statsmodels/regression/linear_model.py:1782: RuntimeWarning: divide by zero encountered in scalar divide\n",
      "  return 1 - self.ssr/self.centered_tss\n"
     ]
    },
    {
     "name": "stdout",
     "output_type": "stream",
     "text": [
      "[['X0' 4.544637869781951]\n",
      " ['X1' 2.173926463761684]\n",
      " ['X2' 4.760712361891512]\n",
      " ['X3' 5.513092685943531]\n",
      " ['X4' 0.0]\n",
      " ['X5' 0.0]\n",
      " ['X6' 0.0]\n",
      " ['X7' 17.250888050390724]\n",
      " ['X8' 15.260768468886097]\n",
      " ['X9' 16.696800011049046]\n",
      " ['X10' 2.655705416322805]\n",
      " ['X11' 1.9603683286605398]\n",
      " ['X12' 3.3054775090875097]\n",
      " ['X13' 2.5359650636679363]\n",
      " ['X14' 2.397039966046291]\n",
      " ['X15' 2.224700492567967]\n",
      " ['X16' 1.4718979465349082]\n",
      " ['X17' 1.5294227030655005]\n",
      " ['X18' 6.495020210540457]\n",
      " ['X19' 2.994624475881639]\n",
      " ['X20' 1.2963030163750155]\n",
      " ['X21' 2.3655919205297415]\n",
      " ['X22' 8.128310228934584]\n",
      " ['X23' 5.353106074464075]\n",
      " ['X24' 1.907476858667078]\n",
      " ['X25' 5.810442627791154]\n",
      " ['X26' 5.789568096200208]\n",
      " ['X27' 1.8499328858790052]\n",
      " ['X28' 7.066948184620932]\n",
      " ['X29' 8.057015729496294]\n",
      " ['X30' 2.5602809467951078]\n",
      " ['X31' 6.865699597373217]\n",
      " ['X32' 3.9710864444647465]\n",
      " ['X33' 2.6517515996490073]\n",
      " ['X34' 6.703451904814594]\n",
      " ['X35' 3.8838564176490493]\n",
      " ['X36' 4.193594896362645]\n",
      " ['X37' 4.027494799912339]\n",
      " ['X38' 2.6351992995744684]\n",
      " ['X39' 2.4270107502035962]\n",
      " ['X40' 5.601257778229794]\n",
      " ['X41' 2.0811714977771643]\n",
      " ['X42' 1.3356546526442767]\n",
      " ['X43' 1.6992374137898096]\n",
      " ['X44' 2.083372601350779]\n",
      " ['X45' 1.3368036449994953]\n",
      " ['X46' 1.6757885874706664]\n",
      " ['X47' 4.021794157308596]\n",
      " ['X48' 4.061629039651854]\n",
      " ['X49' 7.037701505714375]\n",
      " ['X50' 3.917811598709234]\n",
      " ['X51' 8.22226084532588]\n",
      " ['X52' 1.5782122420572853]\n",
      " ['X53' 2.6710916242916762]\n",
      " ['X54' 3.044501132015511]\n",
      " ['X55' 5.280980527678871]\n",
      " ['X56' 2.2731665026014927]\n",
      " ['X57' 2.540049707207666]\n",
      " ['X58' 11.831039229018728]\n",
      " ['X59' 8.098729367632647]\n",
      " ['X60' 10.534267820014353]\n",
      " ['X61' 10.410153621726574]\n",
      " ['X62' 7.189036877099683]\n",
      " ['X63' 9.039139279642677]\n",
      " ['X64' 1.1748293529906289]\n",
      " ['X65' 1.5857712773933683]\n",
      " ['X66' 2.051279521978875]\n",
      " ['X67' 2.4131991135594384]\n",
      " ['X68' 1.1922392374837592]]\n"
     ]
    }
   ],
   "source": [
    "from statsmodels.stats.outliers_influence import variance_inflation_factor\n",
    "\n",
    "vif_data = pd.DataFrame()\n",
    "vif_data[\"Feature\"] = [f\"X{i}\" for i in range(curr_X.shape[1])]\n",
    "vif_data[\"VIF\"] = [variance_inflation_factor(curr_X, i) for i in range(curr_X.shape[1])]\n",
    "\n",
    "print(vif_data.values)  # If any VIF > 10, there is multicollinearity\n"
   ]
  },
  {
   "cell_type": "markdown",
   "metadata": {},
   "source": [
    "# PCA assuming independant time points"
   ]
  },
  {
   "cell_type": "code",
   "execution_count": 9,
   "metadata": {},
   "outputs": [
    {
     "data": {
      "text/plain": [
       "feature_68    0.029879\n",
       "feature_08    0.028366\n",
       "feature_51    0.023829\n",
       "feature_69    0.023293\n",
       "feature_38    0.022911\n",
       "                ...   \n",
       "feature_56   -0.022824\n",
       "feature_19   -0.027792\n",
       "feature_05   -0.042737\n",
       "feature_07   -0.067905\n",
       "feature_06   -0.087058\n",
       "Length: 69, dtype: float64"
      ]
     },
     "execution_count": 9,
     "metadata": {},
     "output_type": "execute_result"
    }
   ],
   "source": [
    "# Correlation between target_1 and each of the features in list features\n",
    "\n",
    "correlation_target_1 = df_0[features].corrwith(df_0[\"target_1\"]).sort_values(ascending=False)\n",
    "correlation_target_1"
   ]
  },
  {
   "cell_type": "code",
   "execution_count": null,
   "metadata": {},
   "outputs": [
    {
     "data": {
      "image/png": "[encoded data removed]",
      "text/plain": [
       "<Figure size 1000x600 with 1 Axes>"
      ]
     },
     "metadata": {},
     "output_type": "display_data"
    }
   ],
   "source": [
    "# PCA\n",
    "\n",
    "from sklearn.decomposition import PCA\n",
    "from sklearn.preprocessing import StandardScaler\n",
    "\n",
    "scaler = StandardScaler()\n",
    "scaler.fit(X_train)\n",
    "X_scaled = scaler.transform(X_train)\n",
    "\n",
    "pca = PCA(n_components=30)\n",
    "pca.fit(X_scaled)\n",
    "X_pca = pca.transform(X_scaled)\n",
    "\n",
    "# Plot the explained variance ratio\n",
    "\n",
    "# plt.figure(figsize=(10, 6))\n",
    "# plt.plot(pca.explained_variance_ratio_, marker=\"o\")\n",
    "# plt.xlabel(\"Principal Component\")\n",
    "# plt.ylabel(\"Explained Variance Ratio\")\n",
    "# plt.title(\"Explained Variance Ratio of PCA\")\n",
    "# plt.grid()\n",
    "# plt.show()\n",
    "\n",
    "# Plot cumulative explained variance ratio\n",
    "\n",
    "plt.figure(figsize=(10, 6))\n",
    "plt.plot(np.cumsum(pca.explained_variance_ratio_), marker=\"o\")\n",
    "plt.xlabel(\"Principal Component\")\n",
    "plt.ylabel(\"Cumulative Explained Variance Ratio\")\n",
    "plt.title(\"Cumulative Explained Variance Ratio of PCA\")\n",
    "plt.grid()\n",
    "plt.show()"
   ]
  },
  {
   "cell_type": "code",
   "execution_count": 31,
   "metadata": {},
   "outputs": [
    {
     "name": "stdout",
     "output_type": "stream",
     "text": [
      "Mean Squared Error: 0.6759964227676392\n",
      "R2 score: 0.0012809038162231445\n",
      "Train R2 score: 0.0016693472862243652\n"
     ]
    }
   ],
   "source": [
    "# Test top 10 features on X_test\n",
    "\n",
    "X_test_scaled = scaler.transform(X_test)\n",
    "X_test_pca = pca.transform(X_test_scaled)\n",
    "\n",
    "from sklearn.linear_model import LinearRegression\n",
    "from sklearn.metrics import mean_squared_error\n",
    "from sklearn.metrics import r2_score\n",
    "\n",
    "model = LinearRegression()\n",
    "model.fit(X_pca[:, :10], y_train)\n",
    "y_pred = model.predict(X_test_pca[:, :10])\n",
    "\n",
    "y_pred_train = model.predict(X_pca[:, :10])\n",
    "mse = mean_squared_error(y_test, y_pred)\n",
    "\n",
    "print(f\"Mean Squared Error: {mse}\")\n",
    "\n",
    "# Find R2 score\n",
    "r2 = r2_score(y_test, y_pred)\n",
    "print(f\"R2 score: {r2}\")\n",
    "print(f\"Train R2 score: {r2_score(y_train, y_pred_train)}\")\n",
    "\n"
   ]
  },
  {
   "cell_type": "markdown",
   "metadata": {},
   "source": [
    "# Predicting First Difference"
   ]
  },
  {
   "cell_type": "code",
   "execution_count": null,
   "metadata": {},
   "outputs": [
    {
     "name": "stdout",
     "output_type": "stream",
     "text": [
      "Breusch Godfrey test p-value: 0.9764454051766447\n",
      "Breusch Godfrey test p-value: 0.9702275583826326\n",
      "Breusch Godfrey test p-value: 0.9676155381390059\n",
      "Breusch Godfrey test p-value: 0.7222217936265722\n",
      "Breusch Godfrey test p-value: 0.7860326817414567\n",
      "Breusch Godfrey test p-value: 0.49621601285281713\n",
      "Breusch Godfrey test p-value: 0.5204597655398928\n",
      "Breusch Godfrey test p-value: 0.5956551134585917\n"
     ]
    }
   ],
   "source": []
  },
  {
   "cell_type": "code",
   "execution_count": null,
   "metadata": {},
   "outputs": [],
   "source": []
  }
 ],
 "metadata": {
  "kernelspec": {
   "display_name": "base",
   "language": "python",
   "name": "python3"
  },
  "language_info": {
   "codemirror_mode": {
    "name": "ipython",
    "version": 3
   },
   "file_extension": ".py",
   "mimetype": "text/x-python",
   "name": "python",
   "nbconvert_exporter": "python",
   "pygments_lexer": "ipython3",
   "version": "3.12.5"
  }
 },
 "nbformat": 4,
 "nbformat_minor": 2
}
